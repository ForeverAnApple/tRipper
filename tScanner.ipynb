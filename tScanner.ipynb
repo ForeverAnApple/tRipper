{
 "cells": [
  {
   "cell_type": "markdown",
   "metadata": {},
   "source": [
    "# tScanner\n",
    "A RSA Public Key Scanner\n",
    "\n",
    "## Web Mining Final Project\n",
    "### Daiwei Chen\n",
    "\n",
    "This project is to go alongside of [Tetanus](https://github.com/ForeverAnApple/Tetanus), the Batch GCD RSA Weak Keys cracker. The purpose of this tool is to obtain public keys from SSL certificates (SSH, PGP may come later). The other point of this tool is to format the RSA keys correctly to extract the modulus of each key to insert into Tetanus for further analysis."
   ]
  },
  {
   "cell_type": "markdown",
   "metadata": {},
   "source": [
    "# Certificate Scanning Stage\n",
    "First, a random amount of IPs will be generated in order to attempt a port 443 SSL handshake to obtain the server certificate. The certificates will be stored for furture public key and public key modulus extraction at a later stage.\n",
    "\n",
    "During the certificate scanning stage, this slice of code will attempt to perform a socket connection to the given ip. With a default timeout of 10 seconds. Since all the ips are randomly generated, we will not be sure that the IP has a running webserver on 443 with HTTPS. The code will reflect on that and continue to test new generated IPs until it reaches the VALID_CERTS limit."
   ]
  },
  {
   "cell_type": "code",
   "execution_count": null,
   "metadata": {},
   "outputs": [
    {
     "name": "stdout",
     "output_type": "stream",
     "text": [
      "Loaded 1 certificates and 3 scanned IPs.\n",
      "Attempting to scan for 100 valid certificate(s).\n"
     ]
    }
   ],
   "source": [
    "import ssl\n",
    "import time\n",
    "import random\n",
    "import pickle\n",
    "import os\n",
    "from socket import *\n",
    "from cryptography import x509\n",
    "from cryptography.hazmat.backends import default_backend\n",
    "from cryptography.hazmat.primitives.serialization import PublicFormat\n",
    "from cryptography.hazmat.primitives.serialization import Encoding\n",
    "from random import getrandbits\n",
    "from ipaddress import IPv4Address\n",
    "\n",
    "random.seed(time.time())\n",
    "\n",
    "# Load the dictionary, if possible\n",
    "if os.path.exists(os.path.join(os.getcwd(), 'scanned_certs.pkl')):\n",
    "    with open('scanned_certs.pkl', 'rb') as f:\n",
    "        certs = pickle.load(f)\n",
    "else:\n",
    "    certs = dict()\n",
    "\n",
    "# Load the set of already tried IPs\n",
    "if os.path.exists(os.path.join(os.getcwd(), 'scanned_ips.pkl')):\n",
    "    with open('scanned_ips.pkl', 'rb') as f:\n",
    "        scannedIps = pickle.load(f)\n",
    "else:\n",
    "    scannedIps = set()\n",
    "\n",
    "print(\"Loaded\", len(certs), \"certificate(s) and\", len(scannedIps), \"scanned IPs.\")\n",
    "\n",
    "VALID_CERTS = 100\n",
    "print(\"Attempting to scan for\", VALID_CERTS, \"valid certificate(s).\")\n",
    "\n",
    "setdefaulttimeout(2) # time is of the essence\n",
    "\n",
    "i = len(certs)\n",
    "tries = 0\n",
    "successful = 0\n",
    "\n",
    "start = time.time()\n",
    "\n",
    "# Randomly Generate IPs and attempt to obtain a valid SSL \n",
    "# certificate off of them\n",
    "while i < VALID_CERTS:\n",
    "    tries += 1\n",
    "    bits = getrandbits(32)\n",
    "    addr = IPv4Address(bits)\n",
    "    addr_str = str(addr)\n",
    "    #print(\"Trying\", addr_str)\n",
    "    if addr_str not in scannedIps:\n",
    "        scannedIps.add(addr_str)\n",
    "        try:                                                                                                              \n",
    "          cert = ssl.get_server_certificate((addr_str, 443))\n",
    "        except (error, timeout) as err:\n",
    "          cert = \"Timed Out\"\n",
    "        \n",
    "        if cert != \"Timed Out\":\n",
    "            certs[addr_str] = cert\n",
    "            #print(\"Certificate extracted from\", addr_str)\n",
    "            successful += 1\n",
    "            i += 1\n",
    "        else:\n",
    "            pass\n",
    "            #print(addr_str, \"timed out\")\n",
    "            \n",
    "#print(certs)\n",
    "print(\"Tried\", tries, \"ips for\", successful, \"successful certificate extractions.\")\n",
    "end = time.time()\n",
    "print(\"Scanning for\", successful, \"valid certificates took\", (end-start)/60, \"minutes\")\n",
    "with open(\"scanned_certs.pkl\", 'wb') as f:\n",
    "    pickle.dump(certs, f)\n",
    "    \n",
    "with open(\"scanned_ips.pkl\", 'wb') as f:\n",
    "    pickle.dump(scannedIps, f)"
   ]
  },
  {
   "cell_type": "markdown",
   "metadata": {},
   "source": [
    "# Public Key Extraction\n",
    "Next, we proceed to extract the public key from the certificate, as well as extracting the public components n (modulus) and e. This information will be saved onto a text file in hex form as to send to Tetanus for furthur analysis."
   ]
  },
  {
   "cell_type": "code",
   "execution_count": null,
   "metadata": {},
   "outputs": [],
   "source": [
    "# Load the dictionary, if possible\n",
    "if os.path.exists(os.path.join(os.getcwd(), 'scanned_certs.pkl')):\n",
    "    with open('scanned_certs.pkl', 'rb') as f:\n",
    "        certs = pickle.load(f)\n",
    "else:\n",
    "    print(\"Certificates pickle missing!\")\n",
    "    exit()\n",
    "    \n",
    "print(\"Loaded\", len(certs), \"certificate(s) for public key info extraction.\")\n",
    "\n",
    "key = x509.load_pem_x509_certificate(cert.encode(), default_backend())\n",
    "keyPub = key.public_key().public_bytes(Encoding.PEM, PublicFormat.SubjectPublicKeyInfo)"
   ]
  },
  {
   "cell_type": "markdown",
   "metadata": {},
   "source": [
    "# Analyzing and Graphing\n",
    "After the modulus(es) information is given to Tetanus to perform Batch-GCD attacks on. Next, tScanner will attempt to produce graphs to represent the information in piechart form."
   ]
  },
  {
   "cell_type": "code",
   "execution_count": null,
   "metadata": {},
   "outputs": [],
   "source": []
  }
 ],
 "metadata": {
  "kernelspec": {
   "display_name": "Python 3",
   "language": "python",
   "name": "python3"
  }
 },
 "nbformat": 4,
 "nbformat_minor": 2
}
