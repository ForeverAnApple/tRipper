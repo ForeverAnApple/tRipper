{
 "cells": [
  {
   "cell_type": "markdown",
   "metadata": {},
   "source": [
    "# tScanner\n",
    "A RSA Public Key Scanner\n",
    "\n",
    "## Web Mining Final Project\n",
    "### Daiwei Chen\n",
    "\n",
    "This project is to go alongside of [Tetanus](https://github.com/ForeverAnApple/Tetanus), the Batch GCD RSA Weak Keys cracker. The purpose of this tool is to obtain public keys from SSL certificates (SSH, PGP may come later). The other point of this tool is to format the RSA keys correctly to extract the modulus of each key to insert into Tetanus for further analysis."
   ]
  },
  {
   "cell_type": "markdown",
   "metadata": {},
   "source": [
    "# Certificate Scanning Stage\n",
    "First, a random amount of IPs will be generated in order to attempt a port 443 SSL handshake to obtain the server certificate. The certificates will be stored for furture public key and public key modulus extraction at a later stage.\n",
    "\n",
    "During the certificate scanning stage, this slice of code will attempt to perform a socket connection to the given ip. With a default timeout of 10 seconds. Since all the ips are randomly generated, we will not be sure that the IP has a running webserver on 443 with HTTPS. The code will reflect on that and continue to test new generated IPs until it reaches the VALID_CERTS limit.\n",
    "\n",
    "I've also obtained a list of hostnames from rapid7 labs open data to scan through to look for certificates. The code will look out for already scanned hosts and skip if needed.\n",
    "\n",
    "This code was ran outside of the ipynb as it is very network and time heavy.\n",
    "\n",
    "For now, about 10000 certificates will be scanned for info extraction."
   ]
  },
  {
   "cell_type": "code",
   "execution_count": 98,
   "metadata": {},
   "outputs": [
    {
     "name": "stdout",
     "output_type": "stream",
     "text": [
      "Loaded 12000 certificate(s) and 33166 scanned IPs.\n",
      "Attempting to scan for 100 valid certificate(s).\n",
      "Scanning from hostnames file\n",
      "Tried 0 ips for 0 successful certificate extractions.\n",
      "Scanning for 0 valid certificates took 0.004876033465067545 minutes\n",
      "Total Scanned Certificates: 12000\n"
     ]
    }
   ],
   "source": [
    "import ssl\n",
    "import sys\n",
    "import time\n",
    "import random\n",
    "import pickle\n",
    "import os\n",
    "from socket import *\n",
    "from cryptography import x509\n",
    "from cryptography.hazmat.backends import default_backend\n",
    "from cryptography.hazmat.primitives.serialization import PublicFormat\n",
    "from cryptography.hazmat.primitives.serialization import Encoding\n",
    "from random import getrandbits\n",
    "from ipaddress import IPv4Address\n",
    "\n",
    "random.seed(time.time())\n",
    "\n",
    "# Load the dictionary, if possible\n",
    "if os.path.exists(os.path.join(os.getcwd(), 'scanned_certs.pkl')):\n",
    "    with open('scanned_certs.pkl', 'rb') as f:\n",
    "        certs = pickle.load(f)\n",
    "else:\n",
    "    certs = dict()\n",
    "\n",
    "# Load the set of already tried IPs\n",
    "if os.path.exists(os.path.join(os.getcwd(), 'scanned_ips.pkl')):\n",
    "    with open('scanned_ips.pkl', 'rb') as f:\n",
    "        scannedIps = pickle.load(f)\n",
    "else:\n",
    "    scannedIps = set()\n",
    "\n",
    "print(\"Loaded\", len(certs), \"certificate(s) and\", len(scannedIps), \"scanned IPs.\")\n",
    "\n",
    "VALID_CERTS = 100\n",
    "print(\"Attempting to scan for\", VALID_CERTS, \"valid certificate(s).\")\n",
    "\n",
    "setdefaulttimeout(2) # time is of the essence\n",
    "\n",
    "i = len(certs)\n",
    "tries = 0\n",
    "successful = 0\n",
    "\n",
    "start = time.time()\n",
    "\n",
    "def scanIP(ip):\n",
    "    global i, tries, successful\n",
    "    try:                                                                                                              \n",
    "        cert = ssl.get_server_certificate((ip, 443))\n",
    "    except (error, timeout) as err:\n",
    "      cert = \"Timed Out\"\n",
    "\n",
    "    if cert != \"Timed Out\":\n",
    "        certs[ip] = cert\n",
    "        #print(\"Certificate extracted from\", ip)\n",
    "        successful += 1\n",
    "        i += 1\n",
    "        with open(\"scanned_certs.pkl\", 'wb') as f:\n",
    "            pickle.dump(certs, f)\n",
    "    \n",
    "        with open(\"scanned_ips.pkl\", 'wb') as f:\n",
    "            pickle.dump(scannedIps, f)\n",
    "            \n",
    "    else:\n",
    "        #print(ip, \"timed out\")\n",
    "        pass\n",
    "\n",
    "# Randomly Generate IPs and attempt to obtain a valid SSL \n",
    "# certificate off of them\n",
    "while i < VALID_CERTS:\n",
    "    tries += 1\n",
    "    bits = getrandbits(32)\n",
    "    addr = IPv4Address(bits)\n",
    "    addr_str = str(addr)\n",
    "    #print(\"Trying\", addr_str)\n",
    "    if addr_str not in scannedIps:\n",
    "        scannedIps.add(addr_str)\n",
    "        scanIP(addr_str)\n",
    "\n",
    "# This is true within the real scanning code\n",
    "if True:\n",
    "    print(\"Scanning from hostnames file\")\n",
    "    with open('hostnames_443') as f:\n",
    "        hostnames = f.readlines()\n",
    "\n",
    "    hostnames = [h.rstrip('\\n') for h in hostnames]\n",
    "\n",
    "    for name in hostnames:\n",
    "        if name not in scannedIps and len(name) < 64:\n",
    "            scannedIps.add(name)\n",
    "            scanIP(name)\n",
    "                \n",
    "        if len(certs) >= 10000:\n",
    "            break\n",
    "    \n",
    "            \n",
    "#print(certs)\n",
    "print(\"Tried\", tries, \"ips for\", successful, \"successful certificate extractions.\")\n",
    "end = time.time()\n",
    "print(\"Scanning for\", successful, \"valid certificates took\", (end-start)/60, \"minutes\")\n",
    "print(\"Total Scanned Certificates:\", len(certs))"
   ]
  },
  {
   "cell_type": "markdown",
   "metadata": {},
   "source": [
    "# Public Key Extraction\n",
    "Next, we proceed to extract the public key from the certificate, as well as extracting the public components n (modulus) and e. This information will be saved onto a text file in hex form as to send to Tetanus for furthur analysis.\n",
    "\n",
    "## Duplicate Public Keys\n",
    "The Batch-GCD function is giving false positives due to certificates using the same RSA Public Key. I will attempt to filter out the duplicates to provide unique moduli for Tetanus."
   ]
  },
  {
   "cell_type": "code",
   "execution_count": 99,
   "metadata": {
    "scrolled": true
   },
   "outputs": [
    {
     "name": "stdout",
     "output_type": "stream",
     "text": [
      "Loaded 12000 certificate(s) for public key info extraction.\n",
      "11744 moduli information wrote to tScanner.moduli\n"
     ]
    }
   ],
   "source": [
    "import cryptography\n",
    "\n",
    "# Load the dictionary, if possible\n",
    "if os.path.exists(os.path.join(os.getcwd(), 'scanned_certs.pkl')):\n",
    "    with open('scanned_certs.pkl', 'rb') as f:\n",
    "        certs = pickle.load(f)\n",
    "else:\n",
    "    print(\"Certificates pickle missing!\")\n",
    "    exit()\n",
    "    \n",
    "print(\"Loaded\", len(certs), \"certificate(s) for public key info extraction.\")\n",
    "\n",
    "moduli = dict()\n",
    "#print(certs)\n",
    "\n",
    "for (name, cert) in certs.items():\n",
    "    #print(i)\n",
    "    key = x509.load_pem_x509_certificate(cert.encode(), default_backend())\n",
    "    keyPub = key.public_key()\n",
    "    moduli[name] = keyPub.public_numbers()\n",
    "    #print('n:', keyPub.public_numbers().n, '\\ne:', keyPub.public_numbers().e)\n",
    "\n",
    "moduli_file = open(\"tScanner.moduli\", \"w+\")\n",
    "wrote_moduli = set()\n",
    "    \n",
    "for (name, modu) in moduli.items():\n",
    "    if type(modu) == cryptography.hazmat.primitives.asymmetric.ec.EllipticCurvePublicNumbers:\n",
    "        continue\n",
    "    #print(name, hex(modu.n)[2:])\n",
    "    modhex = hex(modu.n)[2:]\n",
    "    if modhex not in wrote_moduli:\n",
    "        wrote_moduli.add(modhex)\n",
    "        moduli_file.write(modhex + \"\\n\")\n",
    "    \n",
    "print(len(wrote_moduli), \"moduli information wrote to tScanner.moduli\")"
   ]
  },
  {
   "cell_type": "code",
   "execution_count": 51,
   "metadata": {},
   "outputs": [
    {
     "name": "stdout",
     "output_type": "stream",
     "text": [
      "Found vuln key from oneopinion.com\n",
      "Public key:\n",
      " -----BEGIN PUBLIC KEY-----\n",
      "MIIBIjANBgkqhkiG9w0BAQEFAAOCAQ8AMIIBCgKCAQEAxrdvx0cv0pXHWEt2giH6\n",
      "OXYRcRhhQq2V6XVw/Ondm+D33MnKYHfXVbbtG/tgbkT6MwFHGUWtit8gS2PdNAaz\n",
      "JpqkA2hJ99p5LHEaVgvqyQ1zFbuLbeTeqRKtK+nhu+ZdBQdk73+KVsNW5hXfQgsP\n",
      "JDxFsMfaEt8diGnPJvqaMFAGvn17ZP6bD8MIV+A+OQIHxJbI/6ic0cdpJNJYfVB/\n",
      "NIx89lrlVvUvQOuM/WPg4oxlpFPsRS65L0uv7u7/a0x0dwYgaZ9tDp/2A69Qcs3+\n",
      "FV80VPi3oT3xUnhec7aR/q8yuWpkitPnGFgPAJv8CzATqIyzL6umIjp88E9MUc5O\n",
      "+wIDAQAB\n",
      "-----END PUBLIC KEY-----\n",
      "\n",
      "Found vuln key from livesample.com\n",
      "Public key:\n",
      " -----BEGIN PUBLIC KEY-----\n",
      "MIIBIjANBgkqhkiG9w0BAQEFAAOCAQ8AMIIBCgKCAQEAxrdvx0cv0pXHWEt2giH6\n",
      "OXYRcRhhQq2V6XVw/Ondm+D33MnKYHfXVbbtG/tgbkT6MwFHGUWtit8gS2PdNAaz\n",
      "JpqkA2hJ99p5LHEaVgvqyQ1zFbuLbeTeqRKtK+nhu+ZdBQdk73+KVsNW5hXfQgsP\n",
      "JDxFsMfaEt8diGnPJvqaMFAGvn17ZP6bD8MIV+A+OQIHxJbI/6ic0cdpJNJYfVB/\n",
      "NIx89lrlVvUvQOuM/WPg4oxlpFPsRS65L0uv7u7/a0x0dwYgaZ9tDp/2A69Qcs3+\n",
      "FV80VPi3oT3xUnhec7aR/q8yuWpkitPnGFgPAJv8CzATqIyzL6umIjp88E9MUc5O\n",
      "+wIDAQAB\n",
      "-----END PUBLIC KEY-----\n",
      "\n"
     ]
    }
   ],
   "source": [
    "# Let's see who's keys are vulnerable\n",
    "findthis = \"c6b76fc7472fd295c7584b768221fa39761171186142ad95e97570fce9dd9be0f7dcc9ca6077d755b6ed1bfb606e44fa3301471945ad8adf204b63dd3406b3269aa4036849f7da792c711a560beac90d7315bb8b6de4dea912ad2be9e1bbe65d050764ef7f8a56c356e615df420b0f243c45b0c7da12df1d8869cf26fa9a305006be7d7b64fe9b0fc30857e03e390207c496c8ffa89cd1c76924d2587d507f348c7cf65ae556f52f40eb8cfd63e0e28c65a453ec452eb92f4bafeeeeff6b4c74770620699f6d0e9ff603af5072cdfe155f3454f8b7a13df152785e73b691feaf32b96a648ad3e718580f009bfc0b3013a88cb32faba6223a7cf04f4c51ce4efb\"\n",
    "\n",
    "for (name, modu) in moduli.items():\n",
    "    if type(modu) == cryptography.hazmat.primitives.asymmetric.ec.EllipticCurvePublicNumbers:\n",
    "        continue\n",
    "    #print(name, hex(modu.n)[2:])\n",
    "    modhex = hex(modu.n)[2:]\n",
    "    if modhex == findthis:\n",
    "        print(\"Found vuln key from\", name)\n",
    "        key = x509.load_pem_x509_certificate(certs[name].encode(), default_backend())\n",
    "        keyPub = key.public_key()\n",
    "        print(\"Public key:\\n\",  keyPub.public_bytes(Encoding.PEM, PublicFormat.SubjectPublicKeyInfo).decode('utf-8'))"
   ]
  },
  {
   "cell_type": "markdown",
   "metadata": {},
   "source": [
    "# Analyzing and Graphing\n",
    "After the modulus(es) information is given to Tetanus to perform Batch-GCD attacks on. Next, tScanner will attempt to produce graphs to represent the information in piechart form."
   ]
  },
  {
   "cell_type": "code",
   "execution_count": 154,
   "metadata": {},
   "outputs": [
    {
     "data": {
      "image/png": "[encoded data removed]",
      "text/plain": [
       "<Figure size 432x216 with 1 Axes>"
      ]
     },
     "metadata": {},
     "output_type": "display_data"
    }
   ],
   "source": [
    "import numpy as np\n",
    "import matplotlib.pyplot as plt\n",
    "import matplotlib.style as style  \n",
    "\n",
    "moduli_files = [\"input.moduli\", \"tScanner.moduli\"]\n",
    "vuln_files = [\"input.moduli.vuln\", \"tScanner.moduli.vuln\"]\n",
    "\n",
    "#style.use('seaborn-poster')\n",
    "\n",
    "fig, ax = plt.subplots(figsize=(6, 3), subplot_kw=dict(aspect=\"equal\"))\n",
    "\n",
    "data = []\n",
    "dataLabel = [\"2016 Scan\", \"tScanner\"]\n",
    "\n",
    "for (modu, vuln) in zip(moduli_files, vuln_files):\n",
    "    with open(modu, \"rb\") as f:\n",
    "        lines = f.readlines()\n",
    "        \n",
    "    data.append(len(lines))    \n",
    "\n",
    "def func(pct, allvals):\n",
    "    absolute = int(pct/100.*np.sum(allvals))\n",
    "    return \"{:.1f}%\\n({:d} keys)\".format(pct, absolute)\n",
    "\n",
    "size = .3\n",
    "explode = (0.05,0.05)\n",
    "wedges, texts, autotexts = ax.pie(data, autopct=lambda pct: func(pct, data),\n",
    "                                  pctdistance=0.5,\n",
    "                                  textprops=dict(color=\"black\"),\n",
    "                                  explode=explode)\n",
    "\n",
    "legend= plt.legend(wedges, dataLabel,\n",
    "                   title=\"Obtained From\",\n",
    "                   loc=\"center left\",\n",
    "                   bbox_to_anchor=(1, 0, 0.5, 1))\n",
    "\n",
    "plt.setp(legend.get_title(), fontsize=\"12\")\n",
    "plt.setp(autotexts, size=11, weight=\"bold\")\n",
    "\n",
    "ax.set_title(\"RSA Key Scanning\")\n",
    "\n",
    "plt.tight_layout()                                                     \n",
    "plt.savefig('rsa_scan.png', dpi=160, format=\"png\", transparent=True)                                                                                               \n",
    "plt.show()                                                    "
   ]
  },
  {
   "cell_type": "code",
   "execution_count": 152,
   "metadata": {},
   "outputs": [
    {
     "data": {
      "image/png": "[encoded data removed]",
      "text/plain": [
       "<Figure size 432x216 with 1 Axes>"
      ]
     },
     "metadata": {},
     "output_type": "display_data"
    }
   ],
   "source": [
    "vuln_files = [\"input.moduli.vuln\", \"tScanner.moduli.vuln\"]\n",
    "\n",
    "#style.use('seaborn-poster')\n",
    "\n",
    "fig, ax = plt.subplots(figsize=(6, 3), subplot_kw=dict(aspect=\"equal\"))\n",
    "\n",
    "vuln_count = 0\n",
    "dataLabel = [\"Safe\", \"Vulnerable\"]\n",
    "\n",
    "data = [sum(data)]\n",
    "for (modu, vuln) in zip(moduli_files, vuln_files):\n",
    "    with open(vuln, \"rb\") as f:\n",
    "        lines = f.readlines()\n",
    "        \n",
    "    vuln_count += len(lines)\n",
    "\n",
    "data.append(vuln_count)\n",
    "\n",
    "explode = (0.05,0.3)\n",
    "\n",
    "def func(pct, allvals):\n",
    "    absolute = int(pct/100.*np.sum(allvals))\n",
    "    return \"\\n\\n\\n{:.1f}%\\n({:d} keys)\".format(pct, absolute)\n",
    "\n",
    "wedges, texts, autotexts = ax.pie(data, autopct=lambda pct: func(pct, data),\n",
    "                                  textprops=dict(color=\"black\"),\n",
    "                                  pctdistance=0.55,\n",
    "                                  labeldistance=.7,\n",
    "                                  explode=explode,\n",
    "                                  wedgeprops=dict(width=size, edgecolor='black'))\n",
    "\n",
    "legend= plt.legend(wedges, dataLabel,\n",
    "                   title=\"Cracked?\",\n",
    "                   loc=\"center left\",\n",
    "                   bbox_to_anchor=(1, 0, 0.5, 1))\n",
    "\n",
    "plt.setp(legend.get_title(), fontsize=\"12\")\n",
    "plt.setp(autotexts, size=11, weight=\"bold\")\n",
    "\n",
    "ax.set_title(\"RSA Key Cracking\", color=\"black\")\n",
    "\n",
    "plt.tight_layout()                                                       \n",
    "#plt.savefig('rsa_crack.png', dpi=160, format=\"png\", transparent=True)                                                                                               \n",
    "plt.show()                                                  "
   ]
  },
  {
   "cell_type": "markdown",
   "metadata": {},
   "source": [
    "# Conclusion\n",
    "\n",
    "## Insights about the data collected and processed\n",
    "Interestingly, all of the keys I've collected recently are safe to batch-gcd, which is good! However I'm sure if I were able to scan more certificates I would be able to find a few keys that are not.\n",
    "\n",
    "Out of all the keys processed through Tetanus, about .6% of the keys were actually weak to Batch-GCD. And unfortunately, all of them were from the 2016 dataset. People are securing their RSA keys and we should encourage that fact. I'm very sure that most of the major and important companies have their website certificates securied from this. And I know for sure that big certificate companies such as Let's Encrypt and CloudFlare have already solved this problem.\n",
    "\n",
    "## Furthur Study\n",
    "If I continue the study, I hope to collect more keys... Waaaay more keys. All the keys if possible. EVERY. SINGLE. KEY.\n",
    "\n",
    "# Closing Thoughts\n",
    "It is regrettable that I do not have enough time to collect more \"up-to-date\" certificates due to network and data storage limitations. Otherwise I might've received a more holistic dataset and be more conslusive about the research findings."
   ]
  }
 ],
 "metadata": {
  "kernelspec": {
   "display_name": "Python 3",
   "language": "python",
   "name": "python3"
  },
  "language_info": {
   "codemirror_mode": {
    "name": "ipython",
    "version": 3
   },
   "file_extension": ".py",
   "mimetype": "text/x-python",
   "name": "python",
   "nbconvert_exporter": "python",
   "pygments_lexer": "ipython3",
   "version": "3.7.3"
  }
 },
 "nbformat": 4,
 "nbformat_minor": 2
}
